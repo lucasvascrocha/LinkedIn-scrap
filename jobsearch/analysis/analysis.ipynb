{
 "cells": [
  {
   "attachments": {},
   "cell_type": "markdown",
   "metadata": {},
   "source": [
    "# This Notebook is for analyzing and processing the output of scrap"
   ]
  },
  {
   "attachments": {},
   "cell_type": "markdown",
   "metadata": {},
   "source": [
    "Context: Given the significant number of jobs on the LinkedIn site, it isn't easy to do an accurate search.\n",
    "The search needs to be more precise, even with the site's filters.\n",
    "With this, we captured this data to develop more precise ways of searching for the perfect match job.  \n",
    "\n",
    "\n",
    "Solution: Scrap all job data on the LinkedIn site automatically. After collecting the data, try to develop a way to improve the search for relevant opportunities in a personalized way for each profile.  \n"
   ]
  },
  {
   "attachments": {},
   "cell_type": "markdown",
   "metadata": {},
   "source": [
    "# Libs"
   ]
  },
  {
   "cell_type": "code",
   "execution_count": 74,
   "metadata": {},
   "outputs": [],
   "source": [
    "import pandas as pd\n",
    "import json\n",
    "import re\n",
    "import seaborn as sns\n",
    "import matplotlib.pyplot as plt"
   ]
  },
  {
   "cell_type": "code",
   "execution_count": null,
   "metadata": {},
   "outputs": [],
   "source": []
  },
  {
   "attachments": {},
   "cell_type": "markdown",
   "metadata": {},
   "source": [
    "# Variables"
   ]
  },
  {
   "cell_type": "code",
   "execution_count": 43,
   "metadata": {},
   "outputs": [],
   "source": [
    "all_links_path = '../data/raw/all_links.json'\n",
    "all_jobs_details_path = 'data/raw/all_jobs_detail.json'"
   ]
  },
  {
   "attachments": {},
   "cell_type": "markdown",
   "metadata": {},
   "source": [
    "# Functions"
   ]
  },
  {
   "cell_type": "code",
   "execution_count": null,
   "metadata": {},
   "outputs": [],
   "source": []
  },
  {
   "attachments": {},
   "cell_type": "markdown",
   "metadata": {},
   "source": [
    "# Loading data"
   ]
  },
  {
   "cell_type": "code",
   "execution_count": 44,
   "metadata": {},
   "outputs": [],
   "source": [
    "with open(all_links_path, 'r') as openfile:\n",
    "        #Reading from json file\n",
    "        all_links = json.load(openfile)"
   ]
  },
  {
   "cell_type": "code",
   "execution_count": 45,
   "metadata": {},
   "outputs": [],
   "source": [
    "with open(all_jobs_details_path, 'r') as openfile:\n",
    "        #Reading from json file\n",
    "        data_job = json.load(openfile)"
   ]
  },
  {
   "attachments": {},
   "cell_type": "markdown",
   "metadata": {},
   "source": [
    "# Wrangle data experiments"
   ]
  },
  {
   "attachments": {},
   "cell_type": "markdown",
   "metadata": {},
   "source": [
    "### Logic for capture job ids in urls"
   ]
  },
  {
   "cell_type": "code",
   "execution_count": 31,
   "metadata": {},
   "outputs": [
    {
     "data": {
      "text/plain": [
       "['https://www.linkedin.com/jobs/view/senior-data-scientist-at-tala-3338538962?refId=6JEIwkKj0uJkzXjxYSFliA%3D%3D&trackingId=itkVQcypfASexZhU95Tt5g%3D%3D&position=1&pageNum=0&trk=public_jobs_jserp-result_search-card',\n",
       " 'https://www.linkedin.com/jobs/view/senior-data-scientist-kpm-p3723-at-84-51%CB%9A-3314238897?refId=6JEIwkKj0uJkzXjxYSFliA%3D%3D&trackingId=KHI3nickYQBR7OeopQDj3g%3D%3D&position=2&pageNum=0&trk=public_jobs_jserp-result_search-card',\n",
       " 'https://www.linkedin.com/jobs/view/lead-data-scientist-p3719-at-84-51%CB%9A-3314239209?refId=6JEIwkKj0uJkzXjxYSFliA%3D%3D&trackingId=zcJINMCFRhLTJRmOCyGqhw%3D%3D&position=3&pageNum=0&trk=public_jobs_jserp-result_search-card',\n",
       " 'https://www.linkedin.com/jobs/view/software-engineer-developer-productivity-at-stem-inc-3377674000?refId=6JEIwkKj0uJkzXjxYSFliA%3D%3D&trackingId=kAhiDeiBwGKMhhlRVAY9og%3D%3D&position=4&pageNum=0&trk=public_jobs_jserp-result_search-card',\n",
       " 'https://www.linkedin.com/jobs/view/software-engineer-big-data-at-pinterest-3453529654?refId=6JEIwkKj0uJkzXjxYSFliA%3D%3D&trackingId=P0tRkO8FzrGx0nS5RqBSXg%3D%3D&position=5&pageNum=0&trk=public_jobs_jserp-result_search-card',\n",
       " 'https://www.linkedin.com/jobs/view/lead-data-scientist-p1922-at-84-51%CB%9A-3314238949?refId=6JEIwkKj0uJkzXjxYSFliA%3D%3D&trackingId=CzVNsub28tFLtYWTwgVq%2BA%3D%3D&position=6&pageNum=0&trk=public_jobs_jserp-result_search-card',\n",
       " 'https://www.linkedin.com/jobs/view/senior-data-scientist-kpm-p3723-at-84-51%CB%9A-3314236535?refId=6JEIwkKj0uJkzXjxYSFliA%3D%3D&trackingId=d5%2F1wlrx1Vl1eCQfoJ2lUQ%3D%3D&position=7&pageNum=0&trk=public_jobs_jserp-result_search-card',\n",
       " 'https://www.linkedin.com/jobs/view/software-engineer-big-data-at-pinterest-3453526797?refId=6JEIwkKj0uJkzXjxYSFliA%3D%3D&trackingId=aLdWd6Y4cPqNh6Qm5oXWRg%3D%3D&position=8&pageNum=0&trk=public_jobs_jserp-result_search-card',\n",
       " 'https://www.linkedin.com/jobs/view/lead-data-scientist-p3719-at-84-51%CB%9A-3314238945?refId=6JEIwkKj0uJkzXjxYSFliA%3D%3D&trackingId=go8dT5H2Ando%2BgcdoE1UZw%3D%3D&position=9&pageNum=0&trk=public_jobs_jserp-result_search-card',\n",
       " 'https://www.linkedin.com/jobs/view/lead-data-scientist-p1922-at-84-51%CB%9A-3314239198?refId=6JEIwkKj0uJkzXjxYSFliA%3D%3D&trackingId=J95dHZ84cw2dD9%2FIKqSAhw%3D%3D&position=10&pageNum=0&trk=public_jobs_jserp-result_search-card!',\n",
       " 'https://www.linkedin.com/jobs/view/lead-data-scientist-p3719-at-84-51%CB%9A-3314239195?refId=6JEIwkKj0uJkzXjxYSFliA%3D%3D&trackingId=JK%2Bw11CXZJrWePqJfGTqcA%3D%3D&position=11&pageNum=0&trk=public_jobs_jserp-result_search-card',\n",
       " 'https://www.linkedin.com/jobs/view/lead-data-scientist-p3719-at-84-51%CB%9A-3314233697?refId=6JEIwkKj0uJkzXjxYSFliA%3D%3D&trackingId=JZNO2Ed6LFe9Mxg0tqmFDg%3D%3D&position=12&pageNum=0&trk=public_jobs_jserp-result_search-card',\n",
       " 'https://www.linkedin.com/jobs/view/release-train-engineer-rte-at-solutions%C2%B3-llc-3458419440?refId=6JEIwkKj0uJkzXjxYSFliA%3D%3D&trackingId=eEjopG33r8JMYRkfuDYtNg%3D%3D&position=13&pageNum=0&trk=public_jobs_jserp-result_search-card',\n",
       " 'https://www.linkedin.com/jobs/view/senior-python-engineer-at-jobot-3452289200?refId=6JEIwkKj0uJkzXjxYSFliA%3D%3D&trackingId=DpevPGodO5G%2BLx99UYsrOw%3D%3D&position=14&pageNum=0&trk=public_jobs_jserp-result_search-card',\n",
       " 'https://www.linkedin.com/jobs/view/software-engineer-in-test-automation-at-bridge-technical-talent-3451507215?refId=6JEIwkKj0uJkzXjxYSFliA%3D%3D&trackingId=phr7cwHC13hnmzjh09eM1Q%3D%3D&position=15&pageNum=0&trk=public_jobs_jserp-result_search-card',\n",
       " 'https://www.linkedin.com/jobs/view/senior-software-engineer-python-at-indigo-3215796936?refId=6JEIwkKj0uJkzXjxYSFliA%3D%3D&trackingId=Ys6oATyMrycY8ok1WF2wqg%3D%3D&position=16&pageNum=0&trk=public_jobs_jserp-result_search-card',\n",
       " 'https://www.linkedin.com/jobs/view/research-scientist-at-solvay-3459196895?refId=6JEIwkKj0uJkzXjxYSFliA%3D%3D&trackingId=r8m0o4ULLzeL00p2J34z8Q%3D%3D&position=17&pageNum=0&trk=public_jobs_jserp-result_search-card',\n",
       " 'https://www.linkedin.com/jobs/view/site-reliability-engineer-at-dash2-3453567797?refId=6JEIwkKj0uJkzXjxYSFliA%3D%3D&trackingId=1XBi3PtKVNgqTgzsgYcWFA%3D%3D&position=18&pageNum=0&trk=public_jobs_jserp-result_search-card',\n",
       " 'https://www.linkedin.com/jobs/view/software-developer-remote-at-jobot-3439168848?refId=6JEIwkKj0uJkzXjxYSFliA%3D%3D&trackingId=hx1BkvJfn%2F%2FmDgxg5L2c%2Bw%3D%3D&position=19&pageNum=0&trk=public_jobs_jserp-result_search-card',\n",
       " 'https://www.linkedin.com/jobs/view/software-engineer-sr-software-engineer-remote-at-flagship-pioneering-2925991336?refId=6JEIwkKj0uJkzXjxYSFliA%3D%3D&trackingId=fZLdalg%2FsaIfxR3WaM%2BexQ%3D%3D&position=20&pageNum=0&trk=public_jobs_jserp-result_search-card',\n",
       " 'https://www.linkedin.com/jobs/view/sr-software-engineer-machine-learning-at-u-s-xpress-inc-3403509733?refId=6JEIwkKj0uJkzXjxYSFliA%3D%3D&trackingId=%2B7W3vV8%2B73xansvvEM%2BVHw%3D%3D&position=21&pageNum=0&trk=public_jobs_jserp-result_search-card',\n",
       " 'https://www.linkedin.com/jobs/view/devsecops-engineer-remote-at-planned-systems-international-3405457294?refId=6JEIwkKj0uJkzXjxYSFliA%3D%3D&trackingId=ZmJNo0yVoCALd8HB0DK6lQ%3D%3D&position=22&pageNum=0&trk=public_jobs_jserp-result_search-card',\n",
       " 'https://www.linkedin.com/jobs/view/api-developer-at-illumination-works-3390029031?refId=6JEIwkKj0uJkzXjxYSFliA%3D%3D&trackingId=AYPSpfZGfvdXt1fwalMolA%3D%3D&position=23&pageNum=0&trk=public_jobs_jserp-result_search-card',\n",
       " 'https://www.linkedin.com/jobs/view/remote-lead-software-engineer-devops-azure-python-docker-at-cybercoders-3344168805?refId=6JEIwkKj0uJkzXjxYSFliA%3D%3D&trackingId=gh%2BrA%2FgeA5W4jY%2BjorK4vA%3D%3D&position=24&pageNum=0&trk=public_jobs_jserp-result_search-card',\n",
       " 'https://www.linkedin.com/jobs/view/software-developer-remote-at-jobot-3439171495?refId=6JEIwkKj0uJkzXjxYSFliA%3D%3D&trackingId=11BnmZJ2zk%2FURn9FNOEr6w%3D%3D&position=25&pageNum=0&trk=public_jobs_jserp-result_search-card']"
      ]
     },
     "execution_count": 31,
     "metadata": {},
     "output_type": "execute_result"
    }
   ],
   "source": [
    "all_links[0]['links']"
   ]
  },
  {
   "cell_type": "code",
   "execution_count": 32,
   "metadata": {},
   "outputs": [
    {
     "data": {
      "text/plain": [
       "'https://www.linkedin.com/jobs/view/senior-data-scientist-at-tala-3338538962?refId=6JEIwkKj0uJkzXjxYSFliA%3D%3D&trackingId=itkVQcypfASexZhU95Tt5g%3D%3D&position=1&pageNum=0&trk=public_jobs_jserp-result_search-card'"
      ]
     },
     "execution_count": 32,
     "metadata": {},
     "output_type": "execute_result"
    }
   ],
   "source": [
    "all_links[0]['links'][0]"
   ]
  },
  {
   "cell_type": "code",
   "execution_count": 33,
   "metadata": {},
   "outputs": [],
   "source": [
    "unique_link = all_links[0]['links'][0]"
   ]
  },
  {
   "cell_type": "code",
   "execution_count": 34,
   "metadata": {},
   "outputs": [
    {
     "data": {
      "text/plain": [
       "'3338538962'"
      ]
     },
     "execution_count": 34,
     "metadata": {},
     "output_type": "execute_result"
    }
   ],
   "source": [
    "# It will work, considering that every Job id will always have ten characters\n",
    "re.findall(r'\\d{10}', unique_link)[0]"
   ]
  },
  {
   "cell_type": "code",
   "execution_count": 35,
   "metadata": {},
   "outputs": [],
   "source": [
    "#capturing all Job Ids in url\n",
    "all_ids = []\n",
    "for l in all_links[0]['links']:\n",
    "    unique_id = re.findall(r'\\d{10}', l)[0]\n",
    "    all_ids.append(unique_id)"
   ]
  },
  {
   "cell_type": "code",
   "execution_count": 36,
   "metadata": {},
   "outputs": [
    {
     "data": {
      "text/plain": [
       "['3338538962',\n",
       " '3314238897',\n",
       " '3314239209',\n",
       " '3377674000',\n",
       " '3453529654',\n",
       " '3314238949',\n",
       " '3314236535',\n",
       " '3453526797',\n",
       " '3314238945',\n",
       " '3314239198',\n",
       " '3314239195',\n",
       " '3314233697',\n",
       " '3458419440',\n",
       " '3452289200',\n",
       " '3451507215',\n",
       " '3215796936',\n",
       " '3459196895',\n",
       " '3453567797',\n",
       " '3439168848',\n",
       " '2925991336',\n",
       " '3403509733',\n",
       " '3405457294',\n",
       " '3390029031',\n",
       " '3344168805',\n",
       " '3439171495']"
      ]
     },
     "execution_count": 36,
     "metadata": {},
     "output_type": "execute_result"
    }
   ],
   "source": [
    "all_ids"
   ]
  },
  {
   "attachments": {},
   "cell_type": "markdown",
   "metadata": {},
   "source": [
    "# Data job Analysis"
   ]
  },
  {
   "cell_type": "code",
   "execution_count": null,
   "metadata": {},
   "outputs": [],
   "source": [
    "# pd.set_option('display.max_rows', 500)\n",
    "# pd.set_option('display.max_columns', 500)\n",
    "# pd.set_option('display.width', 1000)"
   ]
  },
  {
   "cell_type": "code",
   "execution_count": 46,
   "metadata": {},
   "outputs": [],
   "source": [
    "df_job = pd.json_normalize(data_job)"
   ]
  },
  {
   "cell_type": "code",
   "execution_count": 47,
   "metadata": {},
   "outputs": [
    {
     "data": {
      "text/html": [
       "<div>\n",
       "<style scoped>\n",
       "    .dataframe tbody tr th:only-of-type {\n",
       "        vertical-align: middle;\n",
       "    }\n",
       "\n",
       "    .dataframe tbody tr th {\n",
       "        vertical-align: top;\n",
       "    }\n",
       "\n",
       "    .dataframe thead th {\n",
       "        text-align: right;\n",
       "    }\n",
       "</style>\n",
       "<table border=\"1\" class=\"dataframe\">\n",
       "  <thead>\n",
       "    <tr style=\"text-align: right;\">\n",
       "      <th></th>\n",
       "      <th>title</th>\n",
       "      <th>location</th>\n",
       "      <th>company_name</th>\n",
       "      <th>position_name</th>\n",
       "      <th>experience_required</th>\n",
       "      <th>contract_type</th>\n",
       "      <th>function_name</th>\n",
       "      <th>company_sector</th>\n",
       "      <th>description</th>\n",
       "      <th>link</th>\n",
       "    </tr>\n",
       "  </thead>\n",
       "  <tbody>\n",
       "    <tr>\n",
       "      <th>0</th>\n",
       "      <td>Data Scientist</td>\n",
       "      <td>Redmond, WA</td>\n",
       "      <td>Aditi Consulting</td>\n",
       "      <td>Data Scientist</td>\n",
       "      <td>Mid-Senior level</td>\n",
       "      <td>Contract</td>\n",
       "      <td>Information Technology</td>\n",
       "      <td>IT Services and IT Consulting</td>\n",
       "      <td>Job Details:Title: Data ScientistLocation: Rem...</td>\n",
       "      <td>https://www.linkedin.com/jobs/view/3468551283</td>\n",
       "    </tr>\n",
       "    <tr>\n",
       "      <th>1</th>\n",
       "      <td>Machine Learning Engineer</td>\n",
       "      <td>United States</td>\n",
       "      <td>InterEx Group</td>\n",
       "      <td>Machine Learning Engineer</td>\n",
       "      <td>Mid-Senior level</td>\n",
       "      <td>Contract</td>\n",
       "      <td>Information Technology</td>\n",
       "      <td>IT Services and IT Consulting</td>\n",
       "      <td>Our client is a Fortune 500. The ideal candida...</td>\n",
       "      <td>https://www.linkedin.com/jobs/view/3476847767</td>\n",
       "    </tr>\n",
       "    <tr>\n",
       "      <th>2</th>\n",
       "      <td>Data Scientist</td>\n",
       "      <td>Missouri, United States</td>\n",
       "      <td>Envision</td>\n",
       "      <td>Data Scientist</td>\n",
       "      <td>Mid-Senior level</td>\n",
       "      <td>Contract</td>\n",
       "      <td>Engineering and Information Technology</td>\n",
       "      <td>IT Services and IT Consulting and Biotechnolog...</td>\n",
       "      <td>***W2 Candidates Only***MS Computer Science, E...</td>\n",
       "      <td>https://www.linkedin.com/jobs/view/3477350784</td>\n",
       "    </tr>\n",
       "    <tr>\n",
       "      <th>3</th>\n",
       "      <td>Python Developer with AWS</td>\n",
       "      <td>United States</td>\n",
       "      <td>Maxonic</td>\n",
       "      <td>Python Developer with AWS</td>\n",
       "      <td>Mid-Senior level</td>\n",
       "      <td>Contract</td>\n",
       "      <td>Information Technology</td>\n",
       "      <td>IT Services and IT Consulting</td>\n",
       "      <td>Our direct client is a leading software develo...</td>\n",
       "      <td>https://www.linkedin.com/jobs/view/3467854281</td>\n",
       "    </tr>\n",
       "    <tr>\n",
       "      <th>4</th>\n",
       "      <td>Data Scientist</td>\n",
       "      <td>Austin, Texas Metropolitan Area</td>\n",
       "      <td>Allied Consultants, Inc.</td>\n",
       "      <td>Data Scientist</td>\n",
       "      <td>Mid-Senior level</td>\n",
       "      <td>Contract</td>\n",
       "      <td>Information Technology</td>\n",
       "      <td>IT Services and IT Consulting</td>\n",
       "      <td>OverviewAllied Consultants, Inc. is an Austin-...</td>\n",
       "      <td>https://www.linkedin.com/jobs/view/3469869907</td>\n",
       "    </tr>\n",
       "  </tbody>\n",
       "</table>\n",
       "</div>"
      ],
      "text/plain": [
       "                       title                         location  \\\n",
       "0             Data Scientist                      Redmond, WA   \n",
       "1  Machine Learning Engineer                    United States   \n",
       "2             Data Scientist          Missouri, United States   \n",
       "3  Python Developer with AWS                    United States   \n",
       "4             Data Scientist  Austin, Texas Metropolitan Area   \n",
       "\n",
       "               company_name              position_name experience_required  \\\n",
       "0          Aditi Consulting             Data Scientist    Mid-Senior level   \n",
       "1             InterEx Group  Machine Learning Engineer    Mid-Senior level   \n",
       "2                  Envision             Data Scientist    Mid-Senior level   \n",
       "3                   Maxonic  Python Developer with AWS    Mid-Senior level   \n",
       "4  Allied Consultants, Inc.             Data Scientist    Mid-Senior level   \n",
       "\n",
       "  contract_type                           function_name  \\\n",
       "0      Contract                  Information Technology   \n",
       "1      Contract                  Information Technology   \n",
       "2      Contract  Engineering and Information Technology   \n",
       "3      Contract                  Information Technology   \n",
       "4      Contract                  Information Technology   \n",
       "\n",
       "                                      company_sector  \\\n",
       "0                      IT Services and IT Consulting   \n",
       "1                      IT Services and IT Consulting   \n",
       "2  IT Services and IT Consulting and Biotechnolog...   \n",
       "3                      IT Services and IT Consulting   \n",
       "4                      IT Services and IT Consulting   \n",
       "\n",
       "                                         description  \\\n",
       "0  Job Details:Title: Data ScientistLocation: Rem...   \n",
       "1  Our client is a Fortune 500. The ideal candida...   \n",
       "2  ***W2 Candidates Only***MS Computer Science, E...   \n",
       "3  Our direct client is a leading software develo...   \n",
       "4  OverviewAllied Consultants, Inc. is an Austin-...   \n",
       "\n",
       "                                            link  \n",
       "0  https://www.linkedin.com/jobs/view/3468551283  \n",
       "1  https://www.linkedin.com/jobs/view/3476847767  \n",
       "2  https://www.linkedin.com/jobs/view/3477350784  \n",
       "3  https://www.linkedin.com/jobs/view/3467854281  \n",
       "4  https://www.linkedin.com/jobs/view/3469869907  "
      ]
     },
     "execution_count": 47,
     "metadata": {},
     "output_type": "execute_result"
    }
   ],
   "source": [
    "df_job.head()"
   ]
  },
  {
   "cell_type": "code",
   "execution_count": 39,
   "metadata": {},
   "outputs": [
    {
     "name": "stdout",
     "output_type": "stream",
     "text": [
      "<class 'pandas.core.frame.DataFrame'>\n",
      "RangeIndex: 74 entries, 0 to 73\n",
      "Data columns (total 10 columns):\n",
      " #   Column               Non-Null Count  Dtype \n",
      "---  ------               --------------  ----- \n",
      " 0   title                74 non-null     object\n",
      " 1   location             74 non-null     object\n",
      " 2   company_name         74 non-null     object\n",
      " 3   position_name        74 non-null     object\n",
      " 4   experience_required  74 non-null     object\n",
      " 5   contract_type        74 non-null     object\n",
      " 6   function_name        74 non-null     object\n",
      " 7   company_sector       74 non-null     object\n",
      " 8   description          74 non-null     object\n",
      " 9   link                 74 non-null     object\n",
      "dtypes: object(10)\n",
      "memory usage: 5.9+ KB\n"
     ]
    }
   ],
   "source": [
    "df_job.info()"
   ]
  },
  {
   "cell_type": "code",
   "execution_count": 85,
   "metadata": {},
   "outputs": [
    {
     "data": {
      "text/plain": [
       "title\n",
       "Javascript Developer                4\n",
       "Data Scientist                      3\n",
       "Senior Machine Learning Engineer    3\n",
       "Python Developer                    3\n",
       "UI Developer                        2\n",
       "Sr. Data Scientist                  2\n",
       "Python Developer with AWS           1\n",
       "Python/AWS Developer                1\n",
       "Site Reliability Engineer           1\n",
       "React Developer                     1\n",
       "Name: position_name, dtype: int64"
      ]
     },
     "execution_count": 85,
     "metadata": {},
     "output_type": "execute_result"
    }
   ],
   "source": [
    "df_job.groupby('title').count()['position_name'].sort_values(ascending=False).head(10)"
   ]
  },
  {
   "attachments": {},
   "cell_type": "markdown",
   "metadata": {},
   "source": [
    "Top 10 Titles offered  \n",
    "High diversity title job for the same position"
   ]
  },
  {
   "cell_type": "code",
   "execution_count": 77,
   "metadata": {},
   "outputs": [
    {
     "data": {
      "text/plain": [
       "<AxesSubplot:xlabel='title', ylabel='position_name'>"
      ]
     },
     "execution_count": 77,
     "metadata": {},
     "output_type": "execute_result"
    },
    {
     "data": {
      "image/png": "[encoded data removed]",
      "text/plain": [
       "<Figure size 1440x720 with 1 Axes>"
      ]
     },
     "metadata": {
      "needs_background": "light"
     },
     "output_type": "display_data"
    }
   ],
   "source": [
    "top_10_jobs_name = df_job.groupby('title').count()['position_name'].sort_values(ascending=False).head(10)\n",
    "plt.figure(figsize=(20,10))\n",
    "sns.barplot(x = top_10_jobs_name.index , y = top_10_jobs_name)"
   ]
  },
  {
   "attachments": {},
   "cell_type": "markdown",
   "metadata": {},
   "source": [
    "Experiences required"
   ]
  },
  {
   "cell_type": "code",
   "execution_count": 80,
   "metadata": {},
   "outputs": [
    {
     "data": {
      "text/plain": [
       "experience_required\n",
       "Mid-Senior level    74\n",
       "Name: title, dtype: int64"
      ]
     },
     "execution_count": 80,
     "metadata": {},
     "output_type": "execute_result"
    }
   ],
   "source": [
    "df_job.groupby('experience_required').count()['title'].sort_values(ascending=False)"
   ]
  },
  {
   "attachments": {},
   "cell_type": "markdown",
   "metadata": {},
   "source": [
    "All contract type"
   ]
  },
  {
   "cell_type": "code",
   "execution_count": 81,
   "metadata": {},
   "outputs": [
    {
     "data": {
      "text/plain": [
       "contract_type\n",
       "Contract     73\n",
       "Temporary     1\n",
       "Name: title, dtype: int64"
      ]
     },
     "execution_count": 81,
     "metadata": {},
     "output_type": "execute_result"
    }
   ],
   "source": [
    "df_job.groupby('contract_type').count()['title'].sort_values(ascending=False)"
   ]
  },
  {
   "attachments": {},
   "cell_type": "markdown",
   "metadata": {},
   "source": [
    "All different Function names"
   ]
  },
  {
   "cell_type": "code",
   "execution_count": 82,
   "metadata": {},
   "outputs": [
    {
     "data": {
      "text/plain": [
       "function_name\n",
       "Information Technology                                               29\n",
       "Engineering and Information Technology                               24\n",
       "Engineering                                                           3\n",
       "Information Technology and Engineering                                3\n",
       "Consulting, Science, and Information Technology                       2\n",
       "Information Technology, Engineering, and Analyst                      2\n",
       "Research, Analyst, and Information Technology                         1\n",
       "Project Management and Information Technology                         1\n",
       "Management and Manufacturing                                          1\n",
       "Information Technology, Engineering, and Research                     1\n",
       "Information Technology and Business Development                       1\n",
       "Information Technology, Analyst, and Engineering                      1\n",
       "Consulting, Science, and Research                                     1\n",
       "Finance and Sales                                                     1\n",
       "Engineering and Design                                                1\n",
       "Customer Service, Business Development, and Sales                     1\n",
       "Writing/Editing, Business Development, and Information Technology     1\n",
       "Name: title, dtype: int64"
      ]
     },
     "execution_count": 82,
     "metadata": {},
     "output_type": "execute_result"
    }
   ],
   "source": [
    "df_job.groupby('function_name').count()['title'].sort_values(ascending=False)"
   ]
  },
  {
   "attachments": {},
   "cell_type": "markdown",
   "metadata": {},
   "source": [
    "All different company sectors"
   ]
  },
  {
   "cell_type": "code",
   "execution_count": 83,
   "metadata": {},
   "outputs": [
    {
     "data": {
      "text/plain": [
       "company_sector\n",
       "IT Services and IT Consulting                                                                27\n",
       "Staffing and Recruiting                                                                      14\n",
       "Financial Services                                                                            2\n",
       "Software Development                                                                          2\n",
       "Medical Equipment Manufacturing, Biotechnology Research, and Pharmaceutical Manufacturing     2\n",
       "Information Services, Government Relations Services, and Government Administration            2\n",
       "Banking                                                                                       1\n",
       "IT Services and IT Consulting, Software Development, and Research Services                    1\n",
       "Technology, Information and Internet, Insurance, and Hospitals and Health Care                1\n",
       "Software Development, Computer Networking Products, and Retail                                1\n",
       "Software Development and Research Services                                                    1\n",
       "Retail Groceries                                                                              1\n",
       "Retail                                                                                        1\n",
       "Pharmaceutical Manufacturing                                                                  1\n",
       "Machinery Manufacturing                                                                       1\n",
       "Information Technology & Services                                                             1\n",
       "IT Services and IT Consulting, Banking, and Accounting                                        1\n",
       "IT Services and IT Consulting, Consumer Services, and Business Consulting and Services        1\n",
       "Banking, Insurance, and Financial Services                                                    1\n",
       "IT Services and IT Consulting and Software Development                                        1\n",
       "IT Services and IT Consulting and Government Administration                                   1\n",
       "IT Services and IT Consulting and Computer and Network Security                               1\n",
       "IT Services and IT Consulting and Biotechnology Research                                      1\n",
       "Hospitals and Health Care                                                                     1\n",
       "Higher Education                                                                              1\n",
       "Furniture and Home Furnishings Manufacturing                                                  1\n",
       "Entertainment Providers and Media Production                                                  1\n",
       "Computer and Network Security                                                                 1\n",
       "Broadcast Media Production and Distribution and Entertainment Providers                       1\n",
       "Biotechnology Research and Pharmaceutical Manufacturing                                       1\n",
       "Transportation, Logistics, Supply Chain and Storage and Farming                               1\n",
       "Name: title, dtype: int64"
      ]
     },
     "execution_count": 83,
     "metadata": {},
     "output_type": "execute_result"
    }
   ],
   "source": [
    "df_job.groupby('company_sector').count()['title'].sort_values(ascending=False)"
   ]
  },
  {
   "attachments": {},
   "cell_type": "markdown",
   "metadata": {},
   "source": [
    "All different locations"
   ]
  },
  {
   "cell_type": "code",
   "execution_count": 84,
   "metadata": {},
   "outputs": [
    {
     "data": {
      "text/plain": [
       "location\n",
       "United States                      46\n",
       "Austin, TX                          3\n",
       "New York, United States             2\n",
       "Seattle, WA                         2\n",
       "San Francisco, CA                   2\n",
       "New Jersey, United States           2\n",
       "Hershey, PA                         1\n",
       "Phoenix, AZ                         1\n",
       "California, United States           1\n",
       "Texas, United States                1\n",
       "Syracuse, NY                        1\n",
       "Durham, NC                          1\n",
       "Florida, United States              1\n",
       "Redmond, WA                         1\n",
       "Ohio, United States                 1\n",
       "Los Angeles Metropolitan Area       1\n",
       "Greater Boston                      1\n",
       "New York, NY                        1\n",
       "Austin, Texas Metropolitan Area     1\n",
       "Missouri, United States             1\n",
       "Minneapolis, MN                     1\n",
       "Michigan, United States             1\n",
       "Washington, DC                      1\n",
       "Name: title, dtype: int64"
      ]
     },
     "execution_count": 84,
     "metadata": {},
     "output_type": "execute_result"
    }
   ],
   "source": [
    "df_job.groupby('location').count()['title'].sort_values(ascending=False)"
   ]
  },
  {
   "attachments": {},
   "cell_type": "markdown",
   "metadata": {},
   "source": [
    "Example of description"
   ]
  },
  {
   "cell_type": "code",
   "execution_count": 87,
   "metadata": {},
   "outputs": [
    {
     "data": {
      "text/plain": [
       "'Job Details:Title: Data ScientistLocation: RemoteDuration: 6 Months Contract (Only on W2) Required Skills:· 3-5 years of experience· Apply knowledge of machine learning techniques and concepts, including the design and implementation of advanced artificial intelligence, computational algorithms, and data science techniques.· Participate in and lead the running of experiments and documentation of results in technical or research whitepapers.· Communicates data findings to both business and IT leaders to influence how an organization approaches and meets business challenges of an evolving customer base and changing marketplace, using strong business acumen.· Collaborates with database engineers and other scientists to develop, refine, and scale data management and analytics procedures, systems, workflows, best practices, and other issues.· Conduct statistical modeling and experiment design, test and validate predictive models.· Conducts scalable data research, on and off the cloud.· Develop custom algorithms to solve analytical problems with data sets.· Implement automated processes for scaling models.· Build and maintain data pipelines. Must have Skillsets:· Adobe analytics &amp; SQL - 4 to 5 years experienceREQUIREMENTS:3-5 years of experienceApply knowledge of machine learning techniques and concepts, including the design and implementation of advanced artificial intelligence, computational algorithms, and data science techniques.Participate in and lead the running of experiments and documentation of results in technical or research whitepapers.Communicates data findings to both business and IT leaders to influence how an organization approaches and meets business challenges of an evolving customer base and changing marketplace, using strong business acumen.Collaborates with database engineers and other scientists to develop, refine, and scale data management and analytics procedures, systems, workflows, best practices, and other issues.Conduct statistical modeling and experiment design, test and validate predictive models.Conducts scalable data research, on and off the cloud.'"
      ]
     },
     "execution_count": 87,
     "metadata": {},
     "output_type": "execute_result"
    }
   ],
   "source": [
    "df_job['description'][0]"
   ]
  }
 ],
 "metadata": {
  "kernelspec": {
   "display_name": "base",
   "language": "python",
   "name": "python3"
  },
  "language_info": {
   "codemirror_mode": {
    "name": "ipython",
    "version": 3
   },
   "file_extension": ".py",
   "mimetype": "text/x-python",
   "name": "python",
   "nbconvert_exporter": "python",
   "pygments_lexer": "ipython3",
   "version": "3.9.12"
  },
  "orig_nbformat": 4,
  "vscode": {
   "interpreter": {
    "hash": "c5e31aeeacb270ca5068113ff7c4d0dec106d4bc502e160b0058d56c6715b2f3"
   }
  }
 },
 "nbformat": 4,
 "nbformat_minor": 2
}
