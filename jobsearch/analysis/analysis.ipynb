{
 "cells": [
  {
   "attachments": {},
   "cell_type": "markdown",
   "metadata": {},
   "source": [
    "# This Notebook is for analyzing and processing the output of scrap"
   ]
  },
  {
   "attachments": {},
   "cell_type": "markdown",
   "metadata": {},
   "source": [
    "Context: Given the significant number of jobs on the LinkedIn site, it isn't easy to do an accurate search.\n",
    "The search needs to be more precise, even with the site's filters.\n",
    "With this, we captured this data to develop more precise ways of searching for the perfect match job.  \n",
    "\n",
    "\n",
    "Solution: Scrap all job data on the LinkedIn site automatically. After collecting the data, try to develop a way to improve the search for relevant opportunities in a personalized way for each profile.  \n"
   ]
  },
  {
   "attachments": {},
   "cell_type": "markdown",
   "metadata": {},
   "source": [
    "# Libs"
   ]
  },
  {
   "cell_type": "code",
   "execution_count": 74,
   "metadata": {},
   "outputs": [],
   "source": [
    "import pandas as pd\n",
    "import json\n",
    "import re\n",
    "import seaborn as sns\n",
    "import matplotlib.pyplot as plt"
   ]
  },
  {
   "cell_type": "code",
   "execution_count": null,
   "metadata": {},
   "outputs": [],
   "source": []
  },
  {
   "attachments": {},
   "cell_type": "markdown",
   "metadata": {},
   "source": [
    "# Variables"
   ]
  },
  {
   "cell_type": "code",
   "execution_count": 249,
   "metadata": {},
   "outputs": [],
   "source": [
    "all_links_path = '../data/raw/all_links.json'\n",
    "all_jobs_details_path = 'data/raw/all_jobs_detail.json'\n",
    "all_dirty_data_path = '../data/raw/colect_all_job_dirty_data_slow_all.json'"
   ]
  },
  {
   "attachments": {},
   "cell_type": "markdown",
   "metadata": {},
   "source": [
    "# Functions"
   ]
  },
  {
   "cell_type": "code",
   "execution_count": 240,
   "metadata": {},
   "outputs": [],
   "source": [
    "def clean_column_strings(df):\n",
    "    \n",
    "    df['location'] = df['location'].apply(lambda x: x.replace(\"\\n\", \"\").strip() if type(x) == str else x)\n",
    "    df['company_name'] = df['company_name'].apply(lambda x: x.replace(\"\\n\", \"\").strip() if type(x) == str else x)\n",
    "    df['experience_required'] = df['experience_required'].apply(lambda x: x.replace(\"\\n\", \"\").strip() if type(x) == str else x)\n",
    "    df['contract_type'] = df['contract_type'].apply(lambda x: x.replace(\"\\n\", \"\").strip() if type(x) == str else x)\n",
    "    df['function_name'] = df['function_name'].apply(lambda x: x.replace(\"\\n\", \"\").strip() if type(x) == str else x)\n",
    "    df['company_sector'] = df['company_sector'].apply(lambda x: x.replace(\"\\n\", \"\").strip() if type(x) == str else x)\n",
    "    clean = re.compile('<.*?>')\n",
    "    df['description'] = df['description'].apply(lambda x: re.sub(clean, '', x[0]).replace('\\n','').strip())\n",
    "    \n",
    "    return df"
   ]
  },
  {
   "attachments": {},
   "cell_type": "markdown",
   "metadata": {},
   "source": [
    "# Loading data"
   ]
  },
  {
   "cell_type": "code",
   "execution_count": 44,
   "metadata": {},
   "outputs": [],
   "source": [
    "with open(all_links_path, 'r') as openfile:\n",
    "        #Reading from json file\n",
    "        all_links = json.load(openfile)"
   ]
  },
  {
   "cell_type": "code",
   "execution_count": 45,
   "metadata": {},
   "outputs": [],
   "source": [
    "with open(all_jobs_details_path, 'r') as openfile:\n",
    "        #Reading from json file\n",
    "        data_job = json.load(openfile)"
   ]
  },
  {
   "cell_type": "code",
   "execution_count": 250,
   "metadata": {},
   "outputs": [],
   "source": [
    "with open(all_dirty_data_path, 'r') as openfile:\n",
    "        #Reading from json file\n",
    "        durty_data_job = json.load(openfile)"
   ]
  },
  {
   "attachments": {},
   "cell_type": "markdown",
   "metadata": {},
   "source": [
    "# Wrangle data experiments"
   ]
  },
  {
   "attachments": {},
   "cell_type": "markdown",
   "metadata": {},
   "source": [
    "### Logic for capture job ids in urls"
   ]
  },
  {
   "cell_type": "code",
   "execution_count": 31,
   "metadata": {},
   "outputs": [
    {
     "data": {
      "text/plain": [
       "['https://www.linkedin.com/jobs/view/senior-data-scientist-at-tala-3338538962?refId=6JEIwkKj0uJkzXjxYSFliA%3D%3D&trackingId=itkVQcypfASexZhU95Tt5g%3D%3D&position=1&pageNum=0&trk=public_jobs_jserp-result_search-card',\n",
       " 'https://www.linkedin.com/jobs/view/senior-data-scientist-kpm-p3723-at-84-51%CB%9A-3314238897?refId=6JEIwkKj0uJkzXjxYSFliA%3D%3D&trackingId=KHI3nickYQBR7OeopQDj3g%3D%3D&position=2&pageNum=0&trk=public_jobs_jserp-result_search-card',\n",
       " 'https://www.linkedin.com/jobs/view/lead-data-scientist-p3719-at-84-51%CB%9A-3314239209?refId=6JEIwkKj0uJkzXjxYSFliA%3D%3D&trackingId=zcJINMCFRhLTJRmOCyGqhw%3D%3D&position=3&pageNum=0&trk=public_jobs_jserp-result_search-card',\n",
       " 'https://www.linkedin.com/jobs/view/software-engineer-developer-productivity-at-stem-inc-3377674000?refId=6JEIwkKj0uJkzXjxYSFliA%3D%3D&trackingId=kAhiDeiBwGKMhhlRVAY9og%3D%3D&position=4&pageNum=0&trk=public_jobs_jserp-result_search-card',\n",
       " 'https://www.linkedin.com/jobs/view/software-engineer-big-data-at-pinterest-3453529654?refId=6JEIwkKj0uJkzXjxYSFliA%3D%3D&trackingId=P0tRkO8FzrGx0nS5RqBSXg%3D%3D&position=5&pageNum=0&trk=public_jobs_jserp-result_search-card',\n",
       " 'https://www.linkedin.com/jobs/view/lead-data-scientist-p1922-at-84-51%CB%9A-3314238949?refId=6JEIwkKj0uJkzXjxYSFliA%3D%3D&trackingId=CzVNsub28tFLtYWTwgVq%2BA%3D%3D&position=6&pageNum=0&trk=public_jobs_jserp-result_search-card',\n",
       " 'https://www.linkedin.com/jobs/view/senior-data-scientist-kpm-p3723-at-84-51%CB%9A-3314236535?refId=6JEIwkKj0uJkzXjxYSFliA%3D%3D&trackingId=d5%2F1wlrx1Vl1eCQfoJ2lUQ%3D%3D&position=7&pageNum=0&trk=public_jobs_jserp-result_search-card',\n",
       " 'https://www.linkedin.com/jobs/view/software-engineer-big-data-at-pinterest-3453526797?refId=6JEIwkKj0uJkzXjxYSFliA%3D%3D&trackingId=aLdWd6Y4cPqNh6Qm5oXWRg%3D%3D&position=8&pageNum=0&trk=public_jobs_jserp-result_search-card',\n",
       " 'https://www.linkedin.com/jobs/view/lead-data-scientist-p3719-at-84-51%CB%9A-3314238945?refId=6JEIwkKj0uJkzXjxYSFliA%3D%3D&trackingId=go8dT5H2Ando%2BgcdoE1UZw%3D%3D&position=9&pageNum=0&trk=public_jobs_jserp-result_search-card',\n",
       " 'https://www.linkedin.com/jobs/view/lead-data-scientist-p1922-at-84-51%CB%9A-3314239198?refId=6JEIwkKj0uJkzXjxYSFliA%3D%3D&trackingId=J95dHZ84cw2dD9%2FIKqSAhw%3D%3D&position=10&pageNum=0&trk=public_jobs_jserp-result_search-card!',\n",
       " 'https://www.linkedin.com/jobs/view/lead-data-scientist-p3719-at-84-51%CB%9A-3314239195?refId=6JEIwkKj0uJkzXjxYSFliA%3D%3D&trackingId=JK%2Bw11CXZJrWePqJfGTqcA%3D%3D&position=11&pageNum=0&trk=public_jobs_jserp-result_search-card',\n",
       " 'https://www.linkedin.com/jobs/view/lead-data-scientist-p3719-at-84-51%CB%9A-3314233697?refId=6JEIwkKj0uJkzXjxYSFliA%3D%3D&trackingId=JZNO2Ed6LFe9Mxg0tqmFDg%3D%3D&position=12&pageNum=0&trk=public_jobs_jserp-result_search-card',\n",
       " 'https://www.linkedin.com/jobs/view/release-train-engineer-rte-at-solutions%C2%B3-llc-3458419440?refId=6JEIwkKj0uJkzXjxYSFliA%3D%3D&trackingId=eEjopG33r8JMYRkfuDYtNg%3D%3D&position=13&pageNum=0&trk=public_jobs_jserp-result_search-card',\n",
       " 'https://www.linkedin.com/jobs/view/senior-python-engineer-at-jobot-3452289200?refId=6JEIwkKj0uJkzXjxYSFliA%3D%3D&trackingId=DpevPGodO5G%2BLx99UYsrOw%3D%3D&position=14&pageNum=0&trk=public_jobs_jserp-result_search-card',\n",
       " 'https://www.linkedin.com/jobs/view/software-engineer-in-test-automation-at-bridge-technical-talent-3451507215?refId=6JEIwkKj0uJkzXjxYSFliA%3D%3D&trackingId=phr7cwHC13hnmzjh09eM1Q%3D%3D&position=15&pageNum=0&trk=public_jobs_jserp-result_search-card',\n",
       " 'https://www.linkedin.com/jobs/view/senior-software-engineer-python-at-indigo-3215796936?refId=6JEIwkKj0uJkzXjxYSFliA%3D%3D&trackingId=Ys6oATyMrycY8ok1WF2wqg%3D%3D&position=16&pageNum=0&trk=public_jobs_jserp-result_search-card',\n",
       " 'https://www.linkedin.com/jobs/view/research-scientist-at-solvay-3459196895?refId=6JEIwkKj0uJkzXjxYSFliA%3D%3D&trackingId=r8m0o4ULLzeL00p2J34z8Q%3D%3D&position=17&pageNum=0&trk=public_jobs_jserp-result_search-card',\n",
       " 'https://www.linkedin.com/jobs/view/site-reliability-engineer-at-dash2-3453567797?refId=6JEIwkKj0uJkzXjxYSFliA%3D%3D&trackingId=1XBi3PtKVNgqTgzsgYcWFA%3D%3D&position=18&pageNum=0&trk=public_jobs_jserp-result_search-card',\n",
       " 'https://www.linkedin.com/jobs/view/software-developer-remote-at-jobot-3439168848?refId=6JEIwkKj0uJkzXjxYSFliA%3D%3D&trackingId=hx1BkvJfn%2F%2FmDgxg5L2c%2Bw%3D%3D&position=19&pageNum=0&trk=public_jobs_jserp-result_search-card',\n",
       " 'https://www.linkedin.com/jobs/view/software-engineer-sr-software-engineer-remote-at-flagship-pioneering-2925991336?refId=6JEIwkKj0uJkzXjxYSFliA%3D%3D&trackingId=fZLdalg%2FsaIfxR3WaM%2BexQ%3D%3D&position=20&pageNum=0&trk=public_jobs_jserp-result_search-card',\n",
       " 'https://www.linkedin.com/jobs/view/sr-software-engineer-machine-learning-at-u-s-xpress-inc-3403509733?refId=6JEIwkKj0uJkzXjxYSFliA%3D%3D&trackingId=%2B7W3vV8%2B73xansvvEM%2BVHw%3D%3D&position=21&pageNum=0&trk=public_jobs_jserp-result_search-card',\n",
       " 'https://www.linkedin.com/jobs/view/devsecops-engineer-remote-at-planned-systems-international-3405457294?refId=6JEIwkKj0uJkzXjxYSFliA%3D%3D&trackingId=ZmJNo0yVoCALd8HB0DK6lQ%3D%3D&position=22&pageNum=0&trk=public_jobs_jserp-result_search-card',\n",
       " 'https://www.linkedin.com/jobs/view/api-developer-at-illumination-works-3390029031?refId=6JEIwkKj0uJkzXjxYSFliA%3D%3D&trackingId=AYPSpfZGfvdXt1fwalMolA%3D%3D&position=23&pageNum=0&trk=public_jobs_jserp-result_search-card',\n",
       " 'https://www.linkedin.com/jobs/view/remote-lead-software-engineer-devops-azure-python-docker-at-cybercoders-3344168805?refId=6JEIwkKj0uJkzXjxYSFliA%3D%3D&trackingId=gh%2BrA%2FgeA5W4jY%2BjorK4vA%3D%3D&position=24&pageNum=0&trk=public_jobs_jserp-result_search-card',\n",
       " 'https://www.linkedin.com/jobs/view/software-developer-remote-at-jobot-3439171495?refId=6JEIwkKj0uJkzXjxYSFliA%3D%3D&trackingId=11BnmZJ2zk%2FURn9FNOEr6w%3D%3D&position=25&pageNum=0&trk=public_jobs_jserp-result_search-card']"
      ]
     },
     "execution_count": 31,
     "metadata": {},
     "output_type": "execute_result"
    }
   ],
   "source": [
    "all_links[0]['links']"
   ]
  },
  {
   "cell_type": "code",
   "execution_count": 32,
   "metadata": {},
   "outputs": [
    {
     "data": {
      "text/plain": [
       "'https://www.linkedin.com/jobs/view/senior-data-scientist-at-tala-3338538962?refId=6JEIwkKj0uJkzXjxYSFliA%3D%3D&trackingId=itkVQcypfASexZhU95Tt5g%3D%3D&position=1&pageNum=0&trk=public_jobs_jserp-result_search-card'"
      ]
     },
     "execution_count": 32,
     "metadata": {},
     "output_type": "execute_result"
    }
   ],
   "source": [
    "all_links[0]['links'][0]"
   ]
  },
  {
   "cell_type": "code",
   "execution_count": 33,
   "metadata": {},
   "outputs": [],
   "source": [
    "unique_link = all_links[0]['links'][0]"
   ]
  },
  {
   "cell_type": "code",
   "execution_count": 34,
   "metadata": {},
   "outputs": [
    {
     "data": {
      "text/plain": [
       "'3338538962'"
      ]
     },
     "execution_count": 34,
     "metadata": {},
     "output_type": "execute_result"
    }
   ],
   "source": [
    "# It will work, considering that every Job id will always have ten characters\n",
    "re.findall(r'\\d{10}', unique_link)[0]"
   ]
  },
  {
   "cell_type": "code",
   "execution_count": 35,
   "metadata": {},
   "outputs": [],
   "source": [
    "#capturing all Job Ids in url\n",
    "all_ids = []\n",
    "for l in all_links[0]['links']:\n",
    "    unique_id = re.findall(r'\\d{10}', l)[0]\n",
    "    all_ids.append(unique_id)"
   ]
  },
  {
   "cell_type": "code",
   "execution_count": 36,
   "metadata": {},
   "outputs": [
    {
     "data": {
      "text/plain": [
       "['3338538962',\n",
       " '3314238897',\n",
       " '3314239209',\n",
       " '3377674000',\n",
       " '3453529654',\n",
       " '3314238949',\n",
       " '3314236535',\n",
       " '3453526797',\n",
       " '3314238945',\n",
       " '3314239198',\n",
       " '3314239195',\n",
       " '3314233697',\n",
       " '3458419440',\n",
       " '3452289200',\n",
       " '3451507215',\n",
       " '3215796936',\n",
       " '3459196895',\n",
       " '3453567797',\n",
       " '3439168848',\n",
       " '2925991336',\n",
       " '3403509733',\n",
       " '3405457294',\n",
       " '3390029031',\n",
       " '3344168805',\n",
       " '3439171495']"
      ]
     },
     "execution_count": 36,
     "metadata": {},
     "output_type": "execute_result"
    }
   ],
   "source": [
    "all_ids"
   ]
  },
  {
   "attachments": {},
   "cell_type": "markdown",
   "metadata": {},
   "source": [
    "### Clean durty data"
   ]
  },
  {
   "cell_type": "code",
   "execution_count": 251,
   "metadata": {},
   "outputs": [],
   "source": [
    "df_job = pd.json_normalize(durty_data_job)"
   ]
  },
  {
   "cell_type": "code",
   "execution_count": 252,
   "metadata": {},
   "outputs": [],
   "source": [
    "df_job = clean_column_strings(df_job)"
   ]
  },
  {
   "attachments": {},
   "cell_type": "markdown",
   "metadata": {},
   "source": [
    "# Data job Analysis"
   ]
  },
  {
   "cell_type": "code",
   "execution_count": null,
   "metadata": {},
   "outputs": [],
   "source": [
    "# pd.set_option('display.max_rows', 500)\n",
    "# pd.set_option('display.max_columns', 500)\n",
    "# pd.set_option('display.width', 1000)"
   ]
  },
  {
   "cell_type": "code",
   "execution_count": 253,
   "metadata": {},
   "outputs": [
    {
     "data": {
      "text/html": [
       "<div>\n",
       "<style scoped>\n",
       "    .dataframe tbody tr th:only-of-type {\n",
       "        vertical-align: middle;\n",
       "    }\n",
       "\n",
       "    .dataframe tbody tr th {\n",
       "        vertical-align: top;\n",
       "    }\n",
       "\n",
       "    .dataframe thead th {\n",
       "        text-align: right;\n",
       "    }\n",
       "</style>\n",
       "<table border=\"1\" class=\"dataframe\">\n",
       "  <thead>\n",
       "    <tr style=\"text-align: right;\">\n",
       "      <th></th>\n",
       "      <th>title</th>\n",
       "      <th>location</th>\n",
       "      <th>company_name</th>\n",
       "      <th>position_name</th>\n",
       "      <th>experience_required</th>\n",
       "      <th>contract_type</th>\n",
       "      <th>function_name</th>\n",
       "      <th>company_sector</th>\n",
       "      <th>description</th>\n",
       "      <th>link</th>\n",
       "    </tr>\n",
       "  </thead>\n",
       "  <tbody>\n",
       "    <tr>\n",
       "      <th>0</th>\n",
       "      <td>Sr. Data Scientist</td>\n",
       "      <td>Hershey, PA</td>\n",
       "      <td>PRI Global</td>\n",
       "      <td>Sr. Data Scientist</td>\n",
       "      <td>Mid-Senior level</td>\n",
       "      <td>Contract</td>\n",
       "      <td>Engineering and Information Technology</td>\n",
       "      <td>IT Services and IT Consulting</td>\n",
       "      <td>Job DescriptionSummary:The Enterprise Data Sci...</td>\n",
       "      <td>https://www.linkedin.com/jobs/view/3478366331</td>\n",
       "    </tr>\n",
       "    <tr>\n",
       "      <th>1</th>\n",
       "      <td>Full Stack Java Developer</td>\n",
       "      <td>Columbia, SC</td>\n",
       "      <td>SPECTRAFORCE</td>\n",
       "      <td>Full Stack Java Developer</td>\n",
       "      <td>Mid-Senior level</td>\n",
       "      <td>Contract</td>\n",
       "      <td>Information Technology</td>\n",
       "      <td>Staffing and Recruiting</td>\n",
       "      <td>Job Title: Full Stack Java DeveloperLocation: ...</td>\n",
       "      <td>https://www.linkedin.com/jobs/view/3478344435</td>\n",
       "    </tr>\n",
       "    <tr>\n",
       "      <th>2</th>\n",
       "      <td>Senior Full Stack Developer</td>\n",
       "      <td>United States</td>\n",
       "      <td>Optomi</td>\n",
       "      <td>Senior Full Stack Developer</td>\n",
       "      <td>Mid-Senior level</td>\n",
       "      <td>Contract</td>\n",
       "      <td>Information Technology and Engineering</td>\n",
       "      <td>IT Services and IT Consulting, Computer Hardwa...</td>\n",
       "      <td>Senior Full Stack Developer (Angular/Java/AWS)...</td>\n",
       "      <td>https://www.linkedin.com/jobs/view/3471538079</td>\n",
       "    </tr>\n",
       "    <tr>\n",
       "      <th>3</th>\n",
       "      <td>UI Developer</td>\n",
       "      <td>United States</td>\n",
       "      <td>eTeam</td>\n",
       "      <td>UI Developer</td>\n",
       "      <td>Mid-Senior level</td>\n",
       "      <td>Contract</td>\n",
       "      <td>Finance and Sales</td>\n",
       "      <td>Staffing and Recruiting</td>\n",
       "      <td>Job Title: UI Developer Duration: 08+ Months+ ...</td>\n",
       "      <td>https://www.linkedin.com/jobs/view/3475030934</td>\n",
       "    </tr>\n",
       "    <tr>\n",
       "      <th>4</th>\n",
       "      <td>Software Engineer II</td>\n",
       "      <td>Minneapolis, MN</td>\n",
       "      <td>Maxonic</td>\n",
       "      <td>Software Engineer II</td>\n",
       "      <td>Mid-Senior level</td>\n",
       "      <td>Contract</td>\n",
       "      <td>Information Technology</td>\n",
       "      <td>IT Services and IT Consulting</td>\n",
       "      <td>Maxonic is supporting our direct client to ful...</td>\n",
       "      <td>https://www.linkedin.com/jobs/view/3468540882</td>\n",
       "    </tr>\n",
       "    <tr>\n",
       "      <th>...</th>\n",
       "      <td>...</td>\n",
       "      <td>...</td>\n",
       "      <td>...</td>\n",
       "      <td>...</td>\n",
       "      <td>...</td>\n",
       "      <td>...</td>\n",
       "      <td>...</td>\n",
       "      <td>...</td>\n",
       "      <td>...</td>\n",
       "      <td>...</td>\n",
       "    </tr>\n",
       "    <tr>\n",
       "      <th>442</th>\n",
       "      <td>Remote Genesys Developer</td>\n",
       "      <td>United States</td>\n",
       "      <td>Insight Global</td>\n",
       "      <td>Remote Genesys Developer</td>\n",
       "      <td>Mid-Senior level</td>\n",
       "      <td>Contract</td>\n",
       "      <td>Information Technology</td>\n",
       "      <td>IT Services and IT Consulting and Banking</td>\n",
       "      <td>Position: Remote Genesys DeveloperLocation: Re...</td>\n",
       "      <td>https://www.linkedin.com/jobs/view/3469095218</td>\n",
       "    </tr>\n",
       "    <tr>\n",
       "      <th>443</th>\n",
       "      <td>Senior Scala Developer</td>\n",
       "      <td>United States</td>\n",
       "      <td>American Technology Consulting - ATC</td>\n",
       "      <td>Senior Scala Developer</td>\n",
       "      <td>Mid-Senior level</td>\n",
       "      <td>Contract</td>\n",
       "      <td>Information Technology</td>\n",
       "      <td>IT Services and IT Consulting</td>\n",
       "      <td>Title: Senior Software EngineerLocation: Urban...</td>\n",
       "      <td>https://www.linkedin.com/jobs/view/3467841735</td>\n",
       "    </tr>\n",
       "    <tr>\n",
       "      <th>444</th>\n",
       "      <td>ETL Developer - Informatica</td>\n",
       "      <td>United States</td>\n",
       "      <td>Planet Technology</td>\n",
       "      <td>ETL Developer - Informatica</td>\n",
       "      <td>Mid-Senior level</td>\n",
       "      <td>Contract</td>\n",
       "      <td>Information Technology</td>\n",
       "      <td>Insurance</td>\n",
       "      <td>6 months remote contractSkills7+ Years of expe...</td>\n",
       "      <td>https://www.linkedin.com/jobs/view/3472301962</td>\n",
       "    </tr>\n",
       "    <tr>\n",
       "      <th>445</th>\n",
       "      <td>Sr .Net Developer - Remote Work</td>\n",
       "      <td>United States</td>\n",
       "      <td>TWO95 International, Inc</td>\n",
       "      <td>Sr .Net Developer - Remote Work</td>\n",
       "      <td>Mid-Senior level</td>\n",
       "      <td>Contract</td>\n",
       "      <td>Information Technology</td>\n",
       "      <td>IT Services and IT Consulting</td>\n",
       "      <td>Title : Sr .Net DeveloperLocation : Remote Wor...</td>\n",
       "      <td>https://www.linkedin.com/jobs/view/3471548555</td>\n",
       "    </tr>\n",
       "    <tr>\n",
       "      <th>446</th>\n",
       "      <td>Software Developer 4</td>\n",
       "      <td>United States</td>\n",
       "      <td>Genesis10</td>\n",
       "      <td>Software Developer 4</td>\n",
       "      <td>Mid-Senior level</td>\n",
       "      <td>Contract</td>\n",
       "      <td>Engineering and Information Technology</td>\n",
       "      <td>IT Services and IT Consulting</td>\n",
       "      <td>Genesis10 is currently seeking an IT - Softwar...</td>\n",
       "      <td>https://www.linkedin.com/jobs/view/3468598870</td>\n",
       "    </tr>\n",
       "  </tbody>\n",
       "</table>\n",
       "<p>447 rows × 10 columns</p>\n",
       "</div>"
      ],
      "text/plain": [
       "                               title         location  \\\n",
       "0                 Sr. Data Scientist      Hershey, PA   \n",
       "1          Full Stack Java Developer     Columbia, SC   \n",
       "2        Senior Full Stack Developer    United States   \n",
       "3                       UI Developer    United States   \n",
       "4               Software Engineer II  Minneapolis, MN   \n",
       "..                               ...              ...   \n",
       "442         Remote Genesys Developer    United States   \n",
       "443           Senior Scala Developer    United States   \n",
       "444      ETL Developer - Informatica    United States   \n",
       "445  Sr .Net Developer - Remote Work    United States   \n",
       "446             Software Developer 4    United States   \n",
       "\n",
       "                             company_name                    position_name  \\\n",
       "0                              PRI Global               Sr. Data Scientist   \n",
       "1                            SPECTRAFORCE        Full Stack Java Developer   \n",
       "2                                  Optomi      Senior Full Stack Developer   \n",
       "3                                   eTeam                     UI Developer   \n",
       "4                                 Maxonic             Software Engineer II   \n",
       "..                                    ...                              ...   \n",
       "442                        Insight Global         Remote Genesys Developer   \n",
       "443  American Technology Consulting - ATC           Senior Scala Developer   \n",
       "444                     Planet Technology      ETL Developer - Informatica   \n",
       "445              TWO95 International, Inc  Sr .Net Developer - Remote Work   \n",
       "446                             Genesis10             Software Developer 4   \n",
       "\n",
       "    experience_required contract_type                           function_name  \\\n",
       "0      Mid-Senior level      Contract  Engineering and Information Technology   \n",
       "1      Mid-Senior level      Contract                  Information Technology   \n",
       "2      Mid-Senior level      Contract  Information Technology and Engineering   \n",
       "3      Mid-Senior level      Contract                       Finance and Sales   \n",
       "4      Mid-Senior level      Contract                  Information Technology   \n",
       "..                  ...           ...                                     ...   \n",
       "442    Mid-Senior level      Contract                  Information Technology   \n",
       "443    Mid-Senior level      Contract                  Information Technology   \n",
       "444    Mid-Senior level      Contract                  Information Technology   \n",
       "445    Mid-Senior level      Contract                  Information Technology   \n",
       "446    Mid-Senior level      Contract  Engineering and Information Technology   \n",
       "\n",
       "                                        company_sector  \\\n",
       "0                        IT Services and IT Consulting   \n",
       "1                              Staffing and Recruiting   \n",
       "2    IT Services and IT Consulting, Computer Hardwa...   \n",
       "3                              Staffing and Recruiting   \n",
       "4                        IT Services and IT Consulting   \n",
       "..                                                 ...   \n",
       "442          IT Services and IT Consulting and Banking   \n",
       "443                      IT Services and IT Consulting   \n",
       "444                                          Insurance   \n",
       "445                      IT Services and IT Consulting   \n",
       "446                      IT Services and IT Consulting   \n",
       "\n",
       "                                           description  \\\n",
       "0    Job DescriptionSummary:The Enterprise Data Sci...   \n",
       "1    Job Title: Full Stack Java DeveloperLocation: ...   \n",
       "2    Senior Full Stack Developer (Angular/Java/AWS)...   \n",
       "3    Job Title: UI Developer Duration: 08+ Months+ ...   \n",
       "4    Maxonic is supporting our direct client to ful...   \n",
       "..                                                 ...   \n",
       "442  Position: Remote Genesys DeveloperLocation: Re...   \n",
       "443  Title: Senior Software EngineerLocation: Urban...   \n",
       "444  6 months remote contractSkills7+ Years of expe...   \n",
       "445  Title : Sr .Net DeveloperLocation : Remote Wor...   \n",
       "446  Genesis10 is currently seeking an IT - Softwar...   \n",
       "\n",
       "                                              link  \n",
       "0    https://www.linkedin.com/jobs/view/3478366331  \n",
       "1    https://www.linkedin.com/jobs/view/3478344435  \n",
       "2    https://www.linkedin.com/jobs/view/3471538079  \n",
       "3    https://www.linkedin.com/jobs/view/3475030934  \n",
       "4    https://www.linkedin.com/jobs/view/3468540882  \n",
       "..                                             ...  \n",
       "442  https://www.linkedin.com/jobs/view/3469095218  \n",
       "443  https://www.linkedin.com/jobs/view/3467841735  \n",
       "444  https://www.linkedin.com/jobs/view/3472301962  \n",
       "445  https://www.linkedin.com/jobs/view/3471548555  \n",
       "446  https://www.linkedin.com/jobs/view/3468598870  \n",
       "\n",
       "[447 rows x 10 columns]"
      ]
     },
     "execution_count": 253,
     "metadata": {},
     "output_type": "execute_result"
    }
   ],
   "source": [
    "df_job"
   ]
  },
  {
   "cell_type": "code",
   "execution_count": 254,
   "metadata": {},
   "outputs": [
    {
     "name": "stdout",
     "output_type": "stream",
     "text": [
      "<class 'pandas.core.frame.DataFrame'>\n",
      "RangeIndex: 447 entries, 0 to 446\n",
      "Data columns (total 10 columns):\n",
      " #   Column               Non-Null Count  Dtype \n",
      "---  ------               --------------  ----- \n",
      " 0   title                447 non-null    object\n",
      " 1   location             447 non-null    object\n",
      " 2   company_name         447 non-null    object\n",
      " 3   position_name        447 non-null    object\n",
      " 4   experience_required  447 non-null    object\n",
      " 5   contract_type        447 non-null    object\n",
      " 6   function_name        447 non-null    object\n",
      " 7   company_sector       447 non-null    object\n",
      " 8   description          447 non-null    object\n",
      " 9   link                 447 non-null    object\n",
      "dtypes: object(10)\n",
      "memory usage: 35.0+ KB\n"
     ]
    }
   ],
   "source": [
    "df_job.info()\n"
   ]
  },
  {
   "cell_type": "code",
   "execution_count": 255,
   "metadata": {},
   "outputs": [
    {
     "data": {
      "text/plain": [
       "title\n",
       "Contract: Senior iOS Developer              17\n",
       "Contract: Senior Backend Engineer (Perl)     7\n",
       "Javascript Developer                         4\n",
       "Dotnet Developer                             4\n",
       "Software Engineer                            3\n",
       "Sr Salesforce Developer                      3\n",
       "Senior Machine Learning Engineer             3\n",
       "Python Developer                             3\n",
       "Senior Software Engineer                     3\n",
       "Data Engineer                                3\n",
       "Name: position_name, dtype: int64"
      ]
     },
     "execution_count": 255,
     "metadata": {},
     "output_type": "execute_result"
    }
   ],
   "source": [
    "df_job.groupby('title').count()['position_name'].sort_values(ascending=False).head(10)"
   ]
  },
  {
   "attachments": {},
   "cell_type": "markdown",
   "metadata": {},
   "source": [
    "Top 10 Titles offered  \n",
    "High diversity title job for the same position"
   ]
  },
  {
   "cell_type": "code",
   "execution_count": 256,
   "metadata": {},
   "outputs": [
    {
     "data": {
      "text/plain": [
       "<AxesSubplot:xlabel='title', ylabel='position_name'>"
      ]
     },
     "execution_count": 256,
     "metadata": {},
     "output_type": "execute_result"
    },
    {
     "data": {
      "image/png": "[encoded data removed]",
      "text/plain": [
       "<Figure size 1440x720 with 1 Axes>"
      ]
     },
     "metadata": {
      "needs_background": "light"
     },
     "output_type": "display_data"
    }
   ],
   "source": [
    "top_10_jobs_name = df_job.groupby('title').count()['position_name'].sort_values(ascending=False).head(10)\n",
    "plt.figure(figsize=(20,10))\n",
    "sns.barplot(x = top_10_jobs_name.index , y = top_10_jobs_name)"
   ]
  },
  {
   "attachments": {},
   "cell_type": "markdown",
   "metadata": {},
   "source": [
    "Experiences required"
   ]
  },
  {
   "cell_type": "code",
   "execution_count": 257,
   "metadata": {},
   "outputs": [
    {
     "data": {
      "text/plain": [
       "experience_required\n",
       "Mid-Senior level    447\n",
       "Name: title, dtype: int64"
      ]
     },
     "execution_count": 257,
     "metadata": {},
     "output_type": "execute_result"
    }
   ],
   "source": [
    "df_job.groupby('experience_required').count()['title'].sort_values(ascending=False)"
   ]
  },
  {
   "attachments": {},
   "cell_type": "markdown",
   "metadata": {},
   "source": [
    "All contract type"
   ]
  },
  {
   "cell_type": "code",
   "execution_count": 258,
   "metadata": {},
   "outputs": [
    {
     "data": {
      "text/plain": [
       "contract_type\n",
       "Contract     439\n",
       "Temporary      8\n",
       "Name: title, dtype: int64"
      ]
     },
     "execution_count": 258,
     "metadata": {},
     "output_type": "execute_result"
    }
   ],
   "source": [
    "df_job.groupby('contract_type').count()['title'].sort_values(ascending=False)"
   ]
  },
  {
   "attachments": {},
   "cell_type": "markdown",
   "metadata": {},
   "source": [
    "All different Function names"
   ]
  },
  {
   "cell_type": "code",
   "execution_count": 259,
   "metadata": {},
   "outputs": [
    {
     "data": {
      "text/plain": [
       "function_name\n",
       "Engineering and Information Technology                               206\n",
       "Information Technology                                               147\n",
       "Information Technology and Engineering                                14\n",
       "Research, Analyst, and Information Technology                          7\n",
       "Engineering                                                            6\n",
       "Project Management and Information Technology                          5\n",
       "Other                                                                  3\n",
       "Information Technology and Analyst                                     3\n",
       "Accounting/Auditing and Finance                                        2\n",
       "Design, Art/Creative, and Information Technology                       2\n",
       "Research                                                               2\n",
       "Quality Assurance                                                      2\n",
       "Management and Manufacturing                                           2\n",
       "Finance and Sales                                                      2\n",
       "Consulting, Science, and Information Technology                        2\n",
       "Business Development and Sales                                         2\n",
       "Design and Information Technology                                      1\n",
       "Consulting                                                             1\n",
       "Information Technology, Analyst, and Engineering                       1\n",
       "Information Technology, Consulting, and Engineering                    1\n",
       "Information Technology, Engineering, and Research                      1\n",
       "Information Technology, Project Management, and Supply Chain           1\n",
       "Consulting and Information Technology                                  1\n",
       "Marketing                                                              1\n",
       "Marketing and Sales                                                    1\n",
       "Project Management, Information Technology, and Engineering            1\n",
       "Business Development, Engineering, and Analyst                         1\n",
       "Information Technology and Production                                  1\n",
       "Quality Assurance, Engineering, and Analyst                            1\n",
       "Analyst, Information Technology, and Consulting                        1\n",
       "Analyst, Engineering, and Information Technology                       1\n",
       "Research, Analyst, and Product Management                              1\n",
       "Research, Information Technology, and Design                           1\n",
       "Science                                                                1\n",
       "Information Technology and Research                                    1\n",
       "Consulting and Science                                                 1\n",
       "Design                                                                 1\n",
       "Information Technology and Business Development                        1\n",
       "Education and Training                                                 1\n",
       "Customer Service and Administrative                                    1\n",
       "Engineering, Analyst, and Information Technology                       1\n",
       "Engineering, Information Technology, and Advertising                   1\n",
       "Engineering, Information Technology, and Analyst                       1\n",
       "Engineering, Information Technology, and Design                        1\n",
       "Engineering, Information Technology, and Finance                       1\n",
       "Engineering, Information Technology, and Health Care Provider          1\n",
       "Engineering, Information Technology, and Other                         1\n",
       "Engineering, Information Technology, and Research                      1\n",
       "Engineering, Quality Assurance, and Analyst                            1\n",
       "Analyst                                                                1\n",
       "Health Care Provider                                                   1\n",
       "Health Care Provider and Information Technology                        1\n",
       "Human Resources                                                        1\n",
       "Consulting, Information Technology, and Sales                          1\n",
       "Consulting, Engineering, and Information Technology                    1\n",
       "Writing/Editing, Business Development, and Information Technology      1\n",
       "Name: title, dtype: int64"
      ]
     },
     "execution_count": 259,
     "metadata": {},
     "output_type": "execute_result"
    }
   ],
   "source": [
    "df_job.groupby('function_name').count()['title'].sort_values(ascending=False)"
   ]
  },
  {
   "attachments": {},
   "cell_type": "markdown",
   "metadata": {},
   "source": [
    "All different company sectors"
   ]
  },
  {
   "cell_type": "code",
   "execution_count": 260,
   "metadata": {},
   "outputs": [
    {
     "data": {
      "text/plain": [
       "company_sector\n",
       "IT Services and IT Consulting                                                                       121\n",
       "Technology, Information and Internet                                                                 87\n",
       "Staffing and Recruiting                                                                              64\n",
       "Technology, Information and Internet and Human Resources Services                                    24\n",
       "Software Development                                                                                 12\n",
       "                                                                                                   ... \n",
       "IT Services and IT Consulting, Software Development, and Computers and Electronics Manufacturing      1\n",
       "IT Services and IT Consulting, Software Development, and Hospitality                                  1\n",
       "IT Services and IT Consulting, Software Development, and Research Services                            1\n",
       "IT Services and IT Consulting, Staffing and Recruiting, and Financial Services                        1\n",
       "Wholesale and Retail                                                                                  1\n",
       "Name: title, Length: 85, dtype: int64"
      ]
     },
     "execution_count": 260,
     "metadata": {},
     "output_type": "execute_result"
    }
   ],
   "source": [
    "df_job.groupby('company_sector').count()['title'].sort_values(ascending=False)"
   ]
  },
  {
   "attachments": {},
   "cell_type": "markdown",
   "metadata": {},
   "source": [
    "All different locations"
   ]
  },
  {
   "cell_type": "code",
   "execution_count": 261,
   "metadata": {},
   "outputs": [
    {
     "data": {
      "text/plain": [
       "location\n",
       "United States                        233\n",
       "California, United States              9\n",
       "Jacksonville, FL                       6\n",
       "New York, NY                           6\n",
       "Chicago, IL                            6\n",
       "                                    ... \n",
       "Idaho, United States                   1\n",
       "Hershey, PA                            1\n",
       "Hartford, CT                           1\n",
       "Greater Minneapolis-St. Paul Area      1\n",
       "Wisconsin, United States               1\n",
       "Name: title, Length: 112, dtype: int64"
      ]
     },
     "execution_count": 261,
     "metadata": {},
     "output_type": "execute_result"
    }
   ],
   "source": [
    "df_job.groupby('location').count()['title'].sort_values(ascending=False)"
   ]
  },
  {
   "attachments": {},
   "cell_type": "markdown",
   "metadata": {},
   "source": [
    "Example of description"
   ]
  },
  {
   "cell_type": "code",
   "execution_count": 87,
   "metadata": {},
   "outputs": [
    {
     "data": {
      "text/plain": [
       "'Job Details:Title: Data ScientistLocation: RemoteDuration: 6 Months Contract (Only on W2) Required Skills:· 3-5 years of experience· Apply knowledge of machine learning techniques and concepts, including the design and implementation of advanced artificial intelligence, computational algorithms, and data science techniques.· Participate in and lead the running of experiments and documentation of results in technical or research whitepapers.· Communicates data findings to both business and IT leaders to influence how an organization approaches and meets business challenges of an evolving customer base and changing marketplace, using strong business acumen.· Collaborates with database engineers and other scientists to develop, refine, and scale data management and analytics procedures, systems, workflows, best practices, and other issues.· Conduct statistical modeling and experiment design, test and validate predictive models.· Conducts scalable data research, on and off the cloud.· Develop custom algorithms to solve analytical problems with data sets.· Implement automated processes for scaling models.· Build and maintain data pipelines. Must have Skillsets:· Adobe analytics &amp; SQL - 4 to 5 years experienceREQUIREMENTS:3-5 years of experienceApply knowledge of machine learning techniques and concepts, including the design and implementation of advanced artificial intelligence, computational algorithms, and data science techniques.Participate in and lead the running of experiments and documentation of results in technical or research whitepapers.Communicates data findings to both business and IT leaders to influence how an organization approaches and meets business challenges of an evolving customer base and changing marketplace, using strong business acumen.Collaborates with database engineers and other scientists to develop, refine, and scale data management and analytics procedures, systems, workflows, best practices, and other issues.Conduct statistical modeling and experiment design, test and validate predictive models.Conducts scalable data research, on and off the cloud.'"
      ]
     },
     "execution_count": 87,
     "metadata": {},
     "output_type": "execute_result"
    }
   ],
   "source": [
    "df_job['description'][0]"
   ]
  }
 ],
 "metadata": {
  "kernelspec": {
   "display_name": "base",
   "language": "python",
   "name": "python3"
  },
  "language_info": {
   "codemirror_mode": {
    "name": "ipython",
    "version": 3
   },
   "file_extension": ".py",
   "mimetype": "text/x-python",
   "name": "python",
   "nbconvert_exporter": "python",
   "pygments_lexer": "ipython3",
   "version": "3.9.12"
  },
  "orig_nbformat": 4,
  "vscode": {
   "interpreter": {
    "hash": "c5e31aeeacb270ca5068113ff7c4d0dec106d4bc502e160b0058d56c6715b2f3"
   }
  }
 },
 "nbformat": 4,
 "nbformat_minor": 2
}
